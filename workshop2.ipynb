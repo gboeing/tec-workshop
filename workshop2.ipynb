{
 "cells": [
  {
   "cell_type": "markdown",
   "metadata": {},
   "source": [
    "# Urban Networks II\n",
    "\n",
    "Overview of today's topics:\n",
    "  - Network modeling and analysis in a study site\n",
    "  - Simulating commutes\n",
    "  - Network efficiency\n",
    "  - Network perturbation\n",
    "  - Urban accessibility\n",
    "\n",
    "For more, see:\n",
    "  - OSMnx [Documentation](https://osmnx.readthedocs.io/)\n",
    "  - OSMnx [Examples Gallery](https://github.com/gboeing/osmnx-examples) "
   ]
  },
  {
   "cell_type": "code",
   "execution_count": null,
   "metadata": {},
   "outputs": [],
   "source": [
    "!pip install -r requirements.txt"
   ]
  },
  {
   "cell_type": "code",
   "execution_count": null,
   "metadata": {},
   "outputs": [],
   "source": [
    "import matplotlib.pyplot as plt\n",
    "import numpy as np\n",
    "import osmnx as ox\n",
    "import pandana\n",
    "import pandas as pd\n",
    "from shapely import Point\n",
    "\n",
    "# consistent randomization\n",
    "np.random.seed(0)\n",
    "\n",
    "# configure OSMnx\n",
    "ox.settings.log_console = True\n",
    "ox.settings.use_cache = True\n",
    "print(ox.__version__)"
   ]
  },
  {
   "cell_type": "markdown",
   "metadata": {},
   "source": [
    "## 1. Model a study site\n",
    "\n",
    "First, we will identify a study site, model its street network, and calculate some simple indicators."
   ]
  },
  {
   "cell_type": "code",
   "execution_count": null,
   "metadata": {},
   "outputs": [],
   "source": [
    "# create a study site: geocode city hall, convert coords to shapely geometry,\n",
    "# project geometry to UTM, buffer by 5km, project back to lat-lng\n",
    "latlng_coords = ox.geocoder.geocode(\"Los Angeles City Hall\")\n",
    "latlng_point = Point(latlng_coords[1], latlng_coords[0])\n",
    "latlng_point_proj, crs = ox.projection.project_geometry(latlng_point)\n",
    "polygon_proj = latlng_point_proj.buffer(5000)\n",
    "polygon, crs = ox.projection.project_geometry(polygon_proj, crs=crs, to_latlong=True)\n",
    "polygon"
   ]
  },
  {
   "cell_type": "code",
   "execution_count": null,
   "metadata": {},
   "outputs": [],
   "source": [
    "# model the street network within study site\n",
    "# your parameterization makes assumptions about your interests here\n",
    "G = ox.graph.graph_from_polygon(polygon, network_type=\"drive\", truncate_by_edge=True)\n",
    "fig, ax = ox.plot.plot_graph(G, node_size=0, edge_color=\"w\", edge_linewidth=0.3)"
   ]
  },
  {
   "cell_type": "code",
   "execution_count": null,
   "metadata": {},
   "outputs": [],
   "source": [
    "# add speeds and travel times\n",
    "G = ox.routing.add_edge_speeds(G)\n",
    "G = ox.routing.add_edge_travel_times(G)"
   ]
  },
  {
   "cell_type": "code",
   "execution_count": null,
   "metadata": {},
   "outputs": [],
   "source": [
    "# study site area in km^2\n",
    "polygon_proj.area / 1e6"
   ]
  },
  {
   "cell_type": "code",
   "execution_count": null,
   "metadata": {},
   "outputs": [],
   "source": [
    "# how many intersections does it contain?\n",
    "street_counts = pd.Series(dict(G.nodes(data=\"street_count\")))\n",
    "intersect_count = len(street_counts[street_counts > 2])\n",
    "intersect_count"
   ]
  },
  {
   "cell_type": "code",
   "execution_count": null,
   "metadata": {},
   "outputs": [],
   "source": [
    "# what's the intersection density?\n",
    "intersect_count / (polygon_proj.area / 1e6)"
   ]
  },
  {
   "cell_type": "code",
   "execution_count": null,
   "metadata": {},
   "outputs": [],
   "source": [
    "# now clean up the intersections and re-calculate\n",
    "clean_intersects = ox.simplification.consolidate_intersections(\n",
    "    ox.projection.project_graph(G), rebuild_graph=False, tolerance=10\n",
    ")\n",
    "clean_intersect_count = len(clean_intersects)\n",
    "clean_intersect_count"
   ]
  },
  {
   "cell_type": "code",
   "execution_count": null,
   "metadata": {},
   "outputs": [],
   "source": [
    "# what's the cleaned intersection density?\n",
    "clean_intersect_count / (polygon_proj.area / 1e6)"
   ]
  },
  {
   "cell_type": "markdown",
   "metadata": {},
   "source": [
    "## 2. Simulate commutes\n",
    "\n",
    "We'll use a random sample of LEHD LODES data to get home/work coordinates. This is an imperfect proxy for \"true\" work locations from a payroll enumeration. You can read more about LODES and its limitations [here](https://doi.org/10.1080/21681376.2018.1455535). These data are processed in a separate [notebook](process-lodes.ipynb) to keep the data easy on your CPU and memory for this lecture. Our trip simulation will use naive assumptions about travel time (e.g., free flow, no congestion, rough imputation of speed limits) for simplicity, but these can be enriched with effort."
   ]
  },
  {
   "cell_type": "code",
   "execution_count": null,
   "metadata": {},
   "outputs": [],
   "source": [
    "od = pd.read_csv(\"data/od.csv\").sample(1000)\n",
    "od.shape"
   ]
  },
  {
   "cell_type": "code",
   "execution_count": null,
   "metadata": {},
   "outputs": [],
   "source": [
    "od"
   ]
  },
  {
   "cell_type": "code",
   "execution_count": null,
   "metadata": {},
   "outputs": [],
   "source": [
    "# get home/work network nodes\n",
    "home_nodes = ox.distance.nearest_nodes(G, X=od[\"home_lng\"], Y=od[\"home_lat\"])\n",
    "work_nodes = ox.distance.nearest_nodes(G, X=od[\"work_lng\"], Y=od[\"work_lat\"])"
   ]
  },
  {
   "cell_type": "code",
   "execution_count": null,
   "metadata": {
    "tags": []
   },
   "outputs": [],
   "source": [
    "# calculate each shortest path\n",
    "paths = [\n",
    "    ox.routing.shortest_path(G, orig, dest, weight=\"travel_time\")\n",
    "    for orig, dest in zip(home_nodes, work_nodes)\n",
    "]\n",
    "len(paths)"
   ]
  },
  {
   "cell_type": "code",
   "execution_count": null,
   "metadata": {},
   "outputs": [],
   "source": [
    "# filter out any nulls (ie, not successfully solved)\n",
    "paths = [path for path in paths if path is not None and len(path) > 1]\n",
    "len(paths)"
   ]
  },
  {
   "cell_type": "code",
   "execution_count": null,
   "metadata": {},
   "outputs": [],
   "source": [
    "# plot 100 routes\n",
    "fig, ax = ox.plot.plot_graph_routes(\n",
    "    G,\n",
    "    routes=paths[0:100],\n",
    "    node_size=0,\n",
    "    edge_linewidth=0.2,\n",
    "    orig_dest_size=0,\n",
    "    route_colors=\"c\",\n",
    "    route_linewidth=2,\n",
    "    route_alpha=0.2,\n",
    ")"
   ]
  },
  {
   "cell_type": "code",
   "execution_count": null,
   "metadata": {},
   "outputs": [],
   "source": [
    "# now it's your turn\n",
    "# how do these routes change if we minimize distance traveled instead?\n",
    "# what kinds of streets get more/fewer trips assigned to them?"
   ]
  },
  {
   "cell_type": "markdown",
   "metadata": {},
   "source": [
    "## 3. Network efficiency\n",
    "\n",
    "How \"efficient\" are our commuter's routes? That is, how does their distance traveled compare to straight-line distances from home to work?"
   ]
  },
  {
   "cell_type": "code",
   "execution_count": null,
   "metadata": {},
   "outputs": [],
   "source": [
    "def calc_efficiency(G, route, attr=\"length\"):\n",
    "    # sum the edge lengths in the route\n",
    "    trip_distance = sum(ox.routing.route_to_gdf(G, route=route)[attr])\n",
    "    # fast vectorized great-circle distance calculator\n",
    "    gc_distance = ox.distance.great_circle(\n",
    "        lat1=G.nodes[route[0]][\"y\"],\n",
    "        lon1=G.nodes[route[0]][\"x\"],\n",
    "        lat2=G.nodes[route[-1]][\"y\"],\n",
    "        lon2=G.nodes[route[-1]][\"x\"],\n",
    "    )\n",
    "    return gc_distance / trip_distance\n",
    "\n",
    "\n",
    "# calculate each trip's efficiency and make a pandas series\n",
    "trip_efficiency = pd.Series([calc_efficiency(G, path) for path in paths])"
   ]
  },
  {
   "cell_type": "code",
   "execution_count": null,
   "metadata": {},
   "outputs": [],
   "source": [
    "# the straight-line distance is what % of each network distance traveled?\n",
    "trip_efficiency"
   ]
  },
  {
   "cell_type": "code",
   "execution_count": null,
   "metadata": {},
   "outputs": [],
   "source": [
    "trip_efficiency.describe()"
   ]
  },
  {
   "cell_type": "code",
   "execution_count": null,
   "metadata": {},
   "outputs": [],
   "source": [
    "# now it's your turn\n",
    "# what if i were instead interested in how much longer trips are than straight-line would be?"
   ]
  },
  {
   "cell_type": "markdown",
   "metadata": {},
   "source": [
    "## 4. Network perturbation\n",
    "\n",
    "Oh no! There's been an earthquake!\n",
    "\n",
    "The earthquake has knocked out 10% of the street network. Let's simulate that perturbation and see how routes have to change."
   ]
  },
  {
   "cell_type": "code",
   "execution_count": null,
   "metadata": {},
   "outputs": [],
   "source": [
    "# randomly knock-out 10% of the network's nodes\n",
    "frac = 0.10\n",
    "n = int(len(G.nodes) * frac)\n",
    "nodes_to_remove = pd.Series(G.nodes).sample(n).index\n",
    "G_per = G.copy()\n",
    "G_per.remove_nodes_from(nodes_to_remove)"
   ]
  },
  {
   "cell_type": "code",
   "execution_count": null,
   "metadata": {},
   "outputs": [],
   "source": [
    "# get home/work network nodes again, calculate routes, drop nulls\n",
    "home_nodes_per = ox.distance.nearest_nodes(G_per, X=od[\"home_lng\"], Y=od[\"home_lat\"])\n",
    "work_nodes_per = ox.distance.nearest_nodes(G_per, X=od[\"work_lng\"], Y=od[\"work_lat\"])\n",
    "paths_per = [\n",
    "    ox.routing.shortest_path(G_per, orig, dest, weight=\"travel_time\")\n",
    "    for orig, dest in zip(home_nodes_per, work_nodes_per)\n",
    "]\n",
    "paths_per = [path for path in paths_per if path is not None and len(path) > 1]\n",
    "len(paths_per)"
   ]
  },
  {
   "cell_type": "code",
   "execution_count": null,
   "metadata": {},
   "outputs": [],
   "source": [
    "# calculate each trip's efficiency and make a pandas series\n",
    "trip_efficiency_per = pd.Series([calc_efficiency(G_per, path) for path in paths_per])\n",
    "trip_efficiency_per.describe()"
   ]
  },
  {
   "cell_type": "markdown",
   "metadata": {},
   "source": [
    "How many routes are now disconnected? How did trip efficiency change?"
   ]
  },
  {
   "cell_type": "code",
   "execution_count": null,
   "metadata": {},
   "outputs": [],
   "source": [
    "# what % of formerly solvable routes are now unsolvable?\n",
    "1 - (len(paths_per) / len(paths))"
   ]
  },
  {
   "cell_type": "code",
   "execution_count": null,
   "metadata": {},
   "outputs": [],
   "source": [
    "# knocking out x% of the network made (solvable) trips what % less efficient?\n",
    "1 - (trip_efficiency_per.mean() / trip_efficiency.mean())"
   ]
  },
  {
   "cell_type": "code",
   "execution_count": null,
   "metadata": {},
   "outputs": [],
   "source": [
    "# plot n routes apiece, before (cyan) and after (yellow) perturbation\n",
    "n = 100\n",
    "all_paths = paths[:n] + paths_per[:n]\n",
    "colors = [\"c\"] * n + [\"y\"] * n\n",
    "\n",
    "# shuffle the order, so you don't just plot new atop old\n",
    "paths_colors = pd.DataFrame({\"path\": all_paths, \"color\": colors}).sample(frac=1)\n",
    "\n",
    "fig, ax = ox.plot.plot_graph_routes(\n",
    "    G,\n",
    "    routes=paths_colors[\"path\"],\n",
    "    node_size=0,\n",
    "    edge_linewidth=0.2,\n",
    "    orig_dest_size=0,\n",
    "    route_colors=paths_colors[\"color\"],\n",
    "    route_linewidth=2,\n",
    "    route_alpha=0.3,\n",
    ")"
   ]
  },
  {
   "cell_type": "markdown",
   "metadata": {},
   "source": [
    "Central LA performs relatively well because it has a relatively dense and gridlike network that offers multiple redundancy options. \n",
    "\n",
    "  1. What if you conduct this analysis in a disconnected, dendritic suburb on the urban fringe?\n",
    "  2. What if you model a walkable network rather than a drivable one?\n",
    "  3. What if the network perturbation isn't a spatially random process?\n",
    "\n",
    "Take these questions as prompts for self-paced exercise. For example, let's say the LA river has flooded. Use OSMnx to attach elevations to all the nodes in our street network, then knock-out the 10% at the lowest elevation (ie, around the river). How does that change network characteristics like connectivity and efficiency? Or, model a coastal town Miami Beach, then knock-out the network nodes below some sea-level rise threshold. What happens? What neighborhoods are most affected? What communities live in those vulnerable places?"
   ]
  },
  {
   "cell_type": "code",
   "execution_count": null,
   "metadata": {},
   "outputs": [],
   "source": [
    "# now it's your turn\n",
    "# use the prompts above to conduct a self-directed analysis of network perturbation\n",
    "# either using elevation/flooding or any of the 3 prompts above"
   ]
  },
  {
   "cell_type": "markdown",
   "metadata": {},
   "source": [
    "## 5. Urban accessibility\n",
    "\n",
    "If you're interested in isochrone mapping, see the [OSMnx examples](https://github.com/gboeing/osmnx-examples) for a demonstration.\n",
    "\n",
    "Here, we'll analyze food deserts in central LA using OSMnx and [Pandana](https://udst.github.io/pandana/). Pandana uses contraction hierarchies for imprecise but very fast shortest path calculation."
   ]
  },
  {
   "cell_type": "code",
   "execution_count": null,
   "metadata": {},
   "outputs": [],
   "source": [
    "# specify some parameters for the analysis\n",
    "walk_time = 20  # max walking horizon in minutes\n",
    "walk_speed = 4.5  # km per hour"
   ]
  },
  {
   "cell_type": "code",
   "execution_count": null,
   "metadata": {},
   "outputs": [],
   "source": [
    "# model the walkable network within our original study site\n",
    "G_walk = ox.graph.graph_from_polygon(polygon, network_type=\"walk\")\n",
    "fig, ax = ox.plot.plot_graph(G_walk, node_size=0, edge_color=\"w\", edge_linewidth=0.3)"
   ]
  },
  {
   "cell_type": "code",
   "execution_count": null,
   "metadata": {},
   "outputs": [],
   "source": [
    "# set a uniform walking speed on every edge\n",
    "for _, _, data in G_walk.edges(data=True):\n",
    "    data[\"speed_kph\"] = walk_speed\n",
    "G_walk = ox.routing.add_edge_travel_times(G_walk)"
   ]
  },
  {
   "cell_type": "code",
   "execution_count": null,
   "metadata": {},
   "outputs": [],
   "source": [
    "# extract node/edge GeoDataFrames, retaining only necessary columns (for pandana)\n",
    "nodes = ox.convert.graph_to_gdfs(G_walk, edges=False)[[\"x\", \"y\"]]\n",
    "edges = ox.convert.graph_to_gdfs(G_walk, nodes=False).reset_index()[[\"u\", \"v\", \"travel_time\"]]"
   ]
  },
  {
   "cell_type": "code",
   "execution_count": null,
   "metadata": {},
   "outputs": [],
   "source": [
    "# get all the \"fresh food\" stores on OSM within the study site\n",
    "# you could load any amenities DataFrame, but we'll get ours from OSM\n",
    "tags = {\"shop\": [\"grocery\", \"greengrocer\", \"supermarket\"]}\n",
    "bbox = nodes[\"x\"].min(), nodes[\"y\"].min(), nodes[\"x\"].max(), nodes[\"y\"].max()\n",
    "amenities = ox.features.features_from_bbox(bbox, tags=tags)\n",
    "amenities.shape"
   ]
  },
  {
   "cell_type": "code",
   "execution_count": null,
   "metadata": {},
   "outputs": [],
   "source": [
    "# construct the pandana network model\n",
    "network = pandana.Network(\n",
    "    node_x=nodes[\"x\"],\n",
    "    node_y=nodes[\"y\"],\n",
    "    edge_from=edges[\"u\"],\n",
    "    edge_to=edges[\"v\"],\n",
    "    edge_weights=edges[[\"travel_time\"]],\n",
    ")"
   ]
  },
  {
   "cell_type": "code",
   "execution_count": null,
   "metadata": {},
   "outputs": [],
   "source": [
    "# extract (approximate, unprojected) centroids from the amenities' geometries\n",
    "centroids = amenities.centroid"
   ]
  },
  {
   "cell_type": "code",
   "execution_count": null,
   "metadata": {},
   "outputs": [],
   "source": [
    "# specify a max travel distance for this analysis\n",
    "# then set the amenities' locations on the network\n",
    "maxdist = walk_time * 60  # minutes -> seconds, to match travel_time units\n",
    "network.set_pois(\n",
    "    category=\"grocery\", maxdist=maxdist, maxitems=3, x_col=centroids.x, y_col=centroids.y\n",
    ")"
   ]
  },
  {
   "cell_type": "code",
   "execution_count": null,
   "metadata": {},
   "outputs": [],
   "source": [
    "# calculate travel time to nearest amenity from each node in network\n",
    "distances = network.nearest_pois(distance=maxdist, category=\"grocery\", num_pois=3)\n",
    "distances.astype(int).head()"
   ]
  },
  {
   "cell_type": "code",
   "execution_count": null,
   "metadata": {},
   "outputs": [],
   "source": [
    "# plot distance to nearest amenity\n",
    "fig, ax = ox.plot.plot_graph(\n",
    "    G_walk, node_size=0, edge_linewidth=0.1, edge_color=\"gray\", show=False, close=False\n",
    ")\n",
    "\n",
    "sc = ax.scatter(x=nodes[\"x\"], y=nodes[\"y\"], c=distances[1], s=1, cmap=\"inferno_r\")\n",
    "\n",
    "ax.set_title(\"Walking time to nearest grocery store\")\n",
    "plt.colorbar(sc, shrink=0.7).outline.set_edgecolor(\"none\")"
   ]
  },
  {
   "cell_type": "markdown",
   "metadata": {},
   "source": [
    "This tells us about the travel time to the nearest amenities, from each node in the network. What if we're instead interested in how many amenities we can reach within our time horizon?"
   ]
  },
  {
   "cell_type": "code",
   "execution_count": null,
   "metadata": {},
   "outputs": [],
   "source": [
    "# set a variable on the network, using the amenities' nodes\n",
    "node_ids = network.get_node_ids(centroids.x, centroids.y)\n",
    "network.set(node_ids, name=\"grocery\")\n",
    "\n",
    "# aggregate the variable to all the nodes in the network\n",
    "# when counting, the decay doesn't matter (but would for summing)\n",
    "access = network.aggregate(distance=maxdist, type=\"count\", decay=\"linear\", name=\"grocery\")\n",
    "\n",
    "# let's cap it at 5, assuming no further utility from a larger choice set\n",
    "access = access.clip(upper=5)\n",
    "access.describe()"
   ]
  },
  {
   "cell_type": "code",
   "execution_count": null,
   "metadata": {},
   "outputs": [],
   "source": [
    "# plot amenity count within your walking horizon\n",
    "fig, ax = ox.plot.plot_graph(\n",
    "    G_walk, node_size=0, edge_linewidth=0.1, edge_color=\"gray\", show=False, close=False\n",
    ")\n",
    "\n",
    "sc = ax.scatter(x=nodes[\"x\"], y=nodes[\"y\"], c=access, s=1, cmap=\"inferno\")\n",
    "\n",
    "ax.set_title(f\"Grocery stores within a {walk_time} minute walk\")\n",
    "plt.colorbar(sc, shrink=0.7).outline.set_edgecolor(\"none\")"
   ]
  },
  {
   "cell_type": "code",
   "execution_count": null,
   "metadata": {
    "tags": []
   },
   "outputs": [],
   "source": [
    "# now it's your turn\n",
    "# map walking time to nearest school in our study site, capped at 30 minutes\n",
    "# what kinds of communities have better/worse walking access to schools?\n",
    "# see documentation at https://wiki.openstreetmap.org/wiki/Tag:amenity=school"
   ]
  }
 ],
 "metadata": {
  "kernelspec": {
   "display_name": "Python (tec)",
   "language": "python",
   "name": "tec"
  },
  "language_info": {
   "codemirror_mode": {
    "name": "ipython",
    "version": 3
   },
   "file_extension": ".py",
   "mimetype": "text/x-python",
   "name": "python",
   "nbconvert_exporter": "python",
   "pygments_lexer": "ipython3",
   "version": "3.12.9"
  }
 },
 "nbformat": 4,
 "nbformat_minor": 4
}
